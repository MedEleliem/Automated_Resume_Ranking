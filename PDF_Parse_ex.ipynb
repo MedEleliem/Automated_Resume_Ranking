{
 "cells": [
  {
   "cell_type": "code",
   "execution_count": 110,
   "metadata": {},
   "outputs": [],
   "source": [
    "import PyPDF2 as p2\n",
    "import re\n",
    "import spacy\n",
    "nlp = spacy.load('en_core_web_sm')\n",
    "def reader_word_producer(path):\n",
    "    PDFfile = open(path, \"rb\")\n",
    "    pdfreader = p2.PdfFileReader(PDFfile)\n",
    "    i = 0\n",
    "    a = ''\n",
    "    info = pdfreader.getDocumentInfo()\n",
    "    for key, value in info.items() : \n",
    "        if key == '/Producer' and value == 'Microsoft® Word 2016' and pdfreader.getIsEncrypted() == False:\n",
    "            while i<pdfreader.getNumPages() : \n",
    "                a += pdfreader.getPage(i).extractText()\n",
    "                a = re.sub('\\n', ' ', a)\n",
    "                a = a.lower()\n",
    "                i += 1\n",
    "            return nlp(a)\n",
    "        elif key == '/Producer' and value != 'Microsoft® Word 2016' :\n",
    "            raise NotImplementedError(\"{} unsupported format\".format(value))\n",
    "        elif pdfreader.getIsEncrypted() == True:\n",
    "            raise Encryption(\"File encrypted\")\n",
    "            "
   ]
  },
  {
   "cell_type": "code",
   "execution_count": 111,
   "metadata": {
    "scrolled": true
   },
   "outputs": [
    {
     "data": {
      "text/plain": [
       "amy     p rofile   fund accountant with nearly 2 years of experience in hedge fund administration, which includes  preparation of nav calculations, financial statements and associated reports. consistently meeting  deadlines while ensuring a high quality of work  standards. fast learner, driven for results and analytical  in problem solving.   w ork experience   citco fund services (singapore) pte ltd                             jan 2016     present  fund  accountant      calculation of estimate and final navs on a daily, weekly an d monthly basis      preparation of cash and position reconciliation reports      daily pre - production tasks such as price checks, interest accruals and fees booking      maintaining day - to - day relationships with investment managers, brokers and auditors      communicating wi th the reconciliations team to ensure consistent and high - quality standards  when delivering nav packages      undertaking fund migrations from citco toronto and citco dublin office      familiar with various pricing valuation models e.g. independent price verificati on, external  valuer      investigation and resolution of breaks      training of new fund accountants in the team      assist in reviewing estimate and final nav packs   norgas carriers private limited                                              nov 2014     apr 2015  accounta nt      processing invoices from suppliers and scheduling payment remittances      assisted in collecting outstanding debts from debtors      involved in the year end closing of accounts      liaised with external auditors during interim and final audit      monthly bank reconcili ation      perform intercompany journal entries and reconciliation   singapore armed forces                                                   jul 2013     july 2014  operation  specialist/ nsf battery sergeant major (2 nd   sergeant, 24 th   battalion singapore artillery)       in charge of the training management and administration matters, ensuring smooth running  and operation of the battalion      responsible for the welfare, discipline and regimentation of 60 fellow nsfs      rallied with superiors to keep a lookout for troubled soldie rs, acted as the first level of feedback  for peers   e ducation and  q ualifications   royal melbourne institute of technology (rmit)   jul 2014       oct 2015   bachelor of business (accountancy)   gpa: 3.1 / 4   temasek polytechnic   apr 2009     apr 2012   diploma in accounti ng and finance   ngee ann secondary school                jan 2005     nov 2008           s kills and competencies      trained in accounting softwares, aexeo, agresso business world, sage accpac and myob      proficient in microsoft excel, powerpoint  and word      competent in financial and economic databases (bloomberg, thomson reuters)      languages spoken: english, chinese, cantonese      languages written: english, chinese   "
      ]
     },
     "execution_count": 111,
     "metadata": {},
     "output_type": "execute_result"
    }
   ],
   "source": [
    "pathe = r\"C:\\Users\\Med El-Eliem\\1Amy.pdf\"\n",
    "reader_word_producer(pathe)"
   ]
  },
  {
   "cell_type": "code",
   "execution_count": null,
   "metadata": {},
   "outputs": [],
   "source": []
  }
 ],
 "metadata": {
  "kernelspec": {
   "display_name": "Python 3",
   "language": "python",
   "name": "python3"
  },
  "language_info": {
   "codemirror_mode": {
    "name": "ipython",
    "version": 3
   },
   "file_extension": ".py",
   "mimetype": "text/x-python",
   "name": "python",
   "nbconvert_exporter": "python",
   "pygments_lexer": "ipython3",
   "version": "3.7.7"
  }
 },
 "nbformat": 4,
 "nbformat_minor": 4
}
